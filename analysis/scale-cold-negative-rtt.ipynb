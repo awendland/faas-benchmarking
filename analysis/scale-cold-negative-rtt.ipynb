{
 "cells": [
  {
   "cell_type": "code",
   "execution_count": null,
   "metadata": {},
   "outputs": [],
   "source": [
    "import os, sys\n",
    "import glob\n",
    "import altair as alt\n",
    "alt.renderers.enable('notebook')\n",
    "import pandas as pd\n",
    "from pandas.io.json import json_normalize\n",
    "import shared # analysis/shared"
   ]
  },
  {
   "cell_type": "code",
   "execution_count": null,
   "metadata": {},
   "outputs": [],
   "source": [
    "print(os.getcwd())\n",
    "data_6b94_128 = shared.load_data_files(glob.glob('../results/scale-cold-6b94-128-*.results'))\n",
    "data_6b94_128.sort(key=lambda d: d[0]['size'])"
   ]
  },
  {
   "cell_type": "code",
   "execution_count": null,
   "metadata": {},
   "outputs": [],
   "source": [
    "data_6b94_128[0][0]"
   ]
  },
  {
   "cell_type": "code",
   "execution_count": null,
   "metadata": {},
   "outputs": [],
   "source": [
    "def process_data(data):\n",
    "    processed = []\n",
    "    for burst_data in data:\n",
    "        datum = pd.DataFrame.from_dict(json_normalize(burst_data))\n",
    "        for key in datum.keys():\n",
    "            if 'timings' in key and 'phases' not in key:\n",
    "                datum[key + \"_zero\"] = datum[key]\n",
    "                datum[key + \"_zero\"] -= datum[key].min()\n",
    "                datum[key + \"_local\"] = datum[key]\n",
    "                datum[key + \"_local\"] -= datum[\"timings.start\"].min()\n",
    "        datum = datum.rename(index=str, columns={k: k.replace(\".\", \"_\") for k in datum.keys()})\n",
    "        datum['timings_rtt'] = datum['timings_response'] - datum['timings_upload']\n",
    "        processed.append(datum)\n",
    "    return processed\n",
    "pd_6b94_128 = process_data(data_6b94_128)\n",
    "pd_6b94_128[0].keys()"
   ]
  },
  {
   "cell_type": "code",
   "execution_count": null,
   "metadata": {},
   "outputs": [],
   "source": [
    "for burst_data in pd_6b94_128:\n",
    "    print('Checking burst durations for b{}'.format(burst_data['size'][0]))\n",
    "    display(alt.Chart(burst_data).mark_point(color='red').encode(\n",
    "        alt.X('timings_start_local:Q', scale=alt.Scale(zero=False)),\n",
    "        alt.Y('timings_rtt:Q'),\n",
    "    ) + alt.Chart(burst_data).mark_point(color='orange').encode(\n",
    "        alt.X('timings_lookup_local:Q'),\n",
    "        alt.Y('timings_rtt:Q'),\n",
    "    ) + alt.Chart(burst_data).mark_point(color='green').encode(\n",
    "        alt.X('timings_connect_local:Q'),\n",
    "        alt.Y('timings_rtt:Q'),\n",
    "    ) + alt.Chart(burst_data).mark_point(color='blue').encode(\n",
    "        alt.X('timings_upload_local:Q'),\n",
    "        alt.Y('timings_rtt:Q'),\n",
    "    ) + alt.Chart(burst_data).mark_point(color='purple').encode(\n",
    "        alt.X('timings_response_local:Q'),\n",
    "        alt.Y('timings_rtt:Q'),\n",
    "    ).properties(\n",
    "        title='b{}'.format(burst_data['size'][0])\n",
    "    ).interactive())"
   ]
  },
  {
   "cell_type": "code",
   "execution_count": null,
   "metadata": {},
   "outputs": [],
   "source": [
    "def chart_timings(data):\n",
    "    for burst_data in data:\n",
    "        print('Checking burst durations for b{}'.format(burst_data['size'][0]))\n",
    "        display(alt.Chart(burst_data).mark_point(color='red').encode(\n",
    "            alt.X('timings_start_local:Q', scale=alt.Scale(zero=False)),\n",
    "            alt.Y('timings_rtt:Q'),\n",
    "        ) + alt.Chart(burst_data).mark_point(color='orange').encode(\n",
    "            alt.X('timings_lookup_local:Q'),\n",
    "            alt.Y('timings_rtt:Q'),\n",
    "        ) + alt.Chart(burst_data).mark_point(color='green').encode(\n",
    "            alt.X('timings_connect_local:Q'),\n",
    "            alt.Y('timings_rtt:Q'),\n",
    "        ) + alt.Chart(burst_data).mark_point(color='blue').encode(\n",
    "            alt.X('timings_upload_local:Q'),\n",
    "            alt.Y('timings_rtt:Q'),\n",
    "        ) + alt.Chart(burst_data).mark_point(color='purple').encode(\n",
    "            alt.X('timings_response_local:Q'),\n",
    "            alt.Y('timings_rtt:Q'),\n",
    "        ).properties(\n",
    "            title='b{}'.format(burst_data['size'][0])\n",
    "        ).interactive())\n",
    "\n",
    "def visualize_results(glob_path):\n",
    "    data = shared.load_data_files(glob.glob(glob_path))\n",
    "    data.sort(key=lambda d: d[0]['size'])\n",
    "    pdata = process_data(data)\n",
    "    chart_timings(pdata)\n",
    "    \n",
    "visualize_results('../http-test-original.results')"
   ]
  },
  {
   "cell_type": "code",
   "execution_count": null,
   "metadata": {},
   "outputs": [],
   "source": [
    "visualize_results('../http-test-keep-alive.results')"
   ]
  },
  {
   "cell_type": "code",
   "execution_count": null,
   "metadata": {},
   "outputs": [],
   "source": [
    "visualize_results('../http-test-keep-alive-warming.results')"
   ]
  },
  {
   "cell_type": "code",
   "execution_count": null,
   "metadata": {},
   "outputs": [],
   "source": []
  }
 ],
 "metadata": {
  "kernelspec": {
   "display_name": "Python 3",
   "language": "python",
   "name": "python3"
  },
  "language_info": {
   "codemirror_mode": {
    "name": "ipython",
    "version": 3
   },
   "file_extension": ".py",
   "mimetype": "text/x-python",
   "name": "python",
   "nbconvert_exporter": "python",
   "pygments_lexer": "ipython3",
   "version": "3.6.7"
  }
 },
 "nbformat": 4,
 "nbformat_minor": 2
}
